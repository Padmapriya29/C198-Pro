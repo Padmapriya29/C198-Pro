{
  "nbformat": 4,
  "nbformat_minor": 0,
  "metadata": {
    "colab": {
      "provenance": [],
      "authorship_tag": "ABX9TyOhWHwqg+N9P+58/Miuxz4/",
      "include_colab_link": true
    },
    "kernelspec": {
      "name": "python3",
      "display_name": "Python 3"
    },
    "language_info": {
      "name": "python"
    }
  },
  "cells": [
    {
      "cell_type": "markdown",
      "metadata": {
        "id": "view-in-github",
        "colab_type": "text"
      },
      "source": [
        "<a href=\"https://colab.research.google.com/github/Padmapriya29/C198-Pro/blob/main/C198_Pro.ipynb\" target=\"_parent\"><img src=\"https://colab.research.google.com/assets/colab-badge.svg\" alt=\"Open In Colab\"/></a>"
      ]
    },
    {
      "cell_type": "code",
      "execution_count": null,
      "metadata": {
        "colab": {
          "base_uri": "https://localhost:8080/"
        },
        "id": "E6JV0veV7KuZ",
        "outputId": "726a45e2-7dce-4d7c-be81-53f336b666eb"
      },
      "outputs": [
        {
          "name": "stdout",
          "output_type": "stream",
          "text": [
            "Name of the Customer: padmapriya\n",
            "Enter cost of item and quantity\n",
            "Item cost: 100\n",
            "item quantity: 5\n",
            "Do you want to add more items? (y/Y/n/N)y\n",
            "Enter cost of item and quantity\n",
            "Item cost: 60\n",
            "item quantity: 5\n",
            "Do you want to add more items? (y/Y/n/N)n\n",
            "__________________________________________________\n",
            "name:  padmapriya\n",
            "total bill is:  800.0\n",
            "\n",
            "Thank You for Shopping with us\n",
            "__________________________________________________\n",
            "Go to next person? (y/Y/n/N)y\n",
            "Name of the Customer: sangeetha\n",
            "Enter cost of item and quantity\n",
            "Item cost: 100\n",
            "item quantity: 7\n",
            "Do you want to add more items? (y/Y/n/N)y\n",
            "Enter cost of item and quantity\n",
            "Item cost: 50\n",
            "item quantity: 8\n",
            "Do you want to add more items? (y/Y/n/N)n\n",
            "__________________________________________________\n",
            "name:  sangeetha\n",
            "total bill is:  1100.0\n",
            "\n",
            "Thank You for Shopping with us\n",
            "__________________________________________________\n",
            "Go to next person? (y/Y/n/N)n\n"
          ]
        }
      ],
      "source": [
        "while True:\n",
        "  total = 0\n",
        "  customer_name = input(\"Name of the Customer: \")\n",
        "  while True:\n",
        "    print(\"Enter cost of item and quantity\")\n",
        "    cost = float(input(\"Item cost: \"))\n",
        "    quantity = float(input(\"item quantity: \"))\n",
        "    total += cost*quantity\n",
        "    repeat = input(\"Do you want to add more items? (y/Y/n/N)\")\n",
        "    if repeat == 'n' or repeat == 'N':\n",
        "      break \n",
        "  print(\"_\"*50)\n",
        "  print(\"name: \", customer_name)\n",
        "  print(\"total bill is: \", total)\n",
        "  print()\n",
        "  print(\"Thank You for Shopping with us\")\n",
        "  print(\"_\"*50)\n",
        "  new_customer = input(\"Go to next person? (y/Y/n/N)\")\n",
        "  if new_customer == 'n' or new_customer == 'N':\n",
        "    break"
      ]
    }
  ]
}